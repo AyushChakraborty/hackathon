{
 "cells": [
  {
   "cell_type": "code",
   "execution_count": 1,
   "metadata": {},
   "outputs": [
    {
     "name": "stderr",
     "output_type": "stream",
     "text": [
      "/opt/anaconda3/envs/env1/lib/python3.11/site-packages/tqdm/auto.py:21: TqdmWarning: IProgress not found. Please update jupyter and ipywidgets. See https://ipywidgets.readthedocs.io/en/stable/user_install.html\n",
      "  from .autonotebook import tqdm as notebook_tqdm\n"
     ]
    }
   ],
   "source": [
    "from datasets import load_dataset #type: ignore\n",
    "import matplotlib.pyplot as plt\n",
    "import torch\n",
    "import torch.nn.functional as F\n",
    "import numpy as np"
   ]
  },
  {
   "cell_type": "code",
   "execution_count": 2,
   "metadata": {},
   "outputs": [],
   "source": [
    "#code for the model, the architecture of the model is defined here\n",
    "#input features: q_type, wpm, idle, latency, mouse_movement\n",
    "#hidden layer 1: 10 nodes\n",
    "#hidden layer 2: 10 nodes\n",
    "#hidden layer 3: 5 nodes\n",
    "#output logits layer: 3 nodes, where classes are low risk, mild risk, high risk"
   ]
  },
  {
   "cell_type": "code",
   "execution_count": 6,
   "metadata": {},
   "outputs": [],
   "source": [
    "g = torch.Generator().manual_seed(2147)   #setting the seed for reproducibility  "
   ]
  },
  {
   "cell_type": "code",
   "execution_count": 16,
   "metadata": {},
   "outputs": [],
   "source": [
    "#input will be a tensor of shape (batch_size, 5): X\n",
    "X = torch.randn((80, 5) , generator=g) #random input tensor, for now\n",
    "y = torch.randint(0, 3, (80,)) #random target tensor, for now\n",
    "#output will be a tensor of shape (batch_size, 3): y"
   ]
  },
  {
   "cell_type": "code",
   "execution_count": 26,
   "metadata": {},
   "outputs": [
    {
     "name": "stdout",
     "output_type": "stream",
     "text": [
      "tensor([1, 2, 0, 0, 2, 1, 2, 1, 1, 0, 2, 1, 0, 2, 2, 0, 0, 1, 2, 2, 2, 2, 1, 0,\n",
      "        0, 2, 1, 0, 1, 2, 0, 0, 0, 1, 2, 0, 1, 2, 0, 2, 1, 1, 2, 0, 2, 1, 1, 1,\n",
      "        0, 2, 0, 1, 1, 2, 2, 0, 0, 0, 2, 1, 1, 0, 1, 2, 1, 2, 0, 2, 0, 1, 1, 2,\n",
      "        2, 0, 2, 1, 0, 1, 2, 2])\n"
     ]
    }
   ],
   "source": [
    "print(y)"
   ]
  },
  {
   "cell_type": "code",
   "execution_count": null,
   "metadata": {},
   "outputs": [],
   "source": [
    "#random initialization of weights and biases\n",
    "W1 = torch.randn((5, 10), generator=g, requires_grad=True)\n",
    "b1 = torch.randn((10, ), generator=g, requires_grad=True)\n",
    "\n",
    "W2 = torch.randn((10, 10), generator=g, requires_grad=True)\n",
    "b2 = torch.randn((10, ), generator=g, requires_grad=True)\n",
    "\n",
    "W3 = torch.randn((10, 5), generator=g, requires_grad=True)\n",
    "b3 = torch.randn((5, ), generator=g, requires_grad=True)\n",
    "\n",
    "W4 = torch.randn((5, 3), generator=g, requires_grad=True)\n",
    "b4 = torch.randn((3, ), generator=g, requires_grad=True)\n"
   ]
  },
  {
   "cell_type": "code",
   "execution_count": 8,
   "metadata": {},
   "outputs": [],
   "source": [
    "parameters = [W1, b1, W2, b2, W3, b3]"
   ]
  },
  {
   "cell_type": "code",
   "execution_count": 9,
   "metadata": {},
   "outputs": [
    {
     "data": {
      "text/plain": [
       "225"
      ]
     },
     "execution_count": 9,
     "metadata": {},
     "output_type": "execute_result"
    }
   ],
   "source": [
    "#total num of params for bookkeeping\n",
    "sum(p.nelement() for p in parameters) "
   ]
  },
  {
   "cell_type": "code",
   "execution_count": 19,
   "metadata": {},
   "outputs": [],
   "source": [
    "def train(iters, alpha=0.01):\n",
    "    \"\"\"\n",
    "    function to train the model, uses stochastic gradient descent\n",
    "    inputs: iters - number of iterations to train the model\n",
    "    \"\"\"\n",
    "\n",
    "    for step in range(iters):\n",
    "        #forward pass\n",
    "        l1 = X@W1 + b1  #shape: (batch_size, 10)\n",
    "        a1 = F.relu(l1) #shape: (batch_size, 10)\n",
    "\n",
    "        l2 = a1@W2 + b2  #shape: (batch_size, 10)\n",
    "        a2 = F.relu(l2)\n",
    "\n",
    "        l3 = a2@W3 + b3  #shape: (batch_size, 5)\n",
    "        a3 = F.relu(l3)\n",
    "\n",
    "        logits = a3@W4 + b4  #shape: (batch_size, 3)\n",
    "        neg_log_loss = F.cross_entropy(logits, y)\n",
    "\n",
    "        print(f\"loss at iter {step+1}: {neg_log_loss.item()}\")\n",
    "\n",
    "        #backward pass\n",
    "        for p in parameters:\n",
    "            p.grad = None  #resetting the gradients, to avoid gradient accumulation\n",
    "        neg_log_loss.backward()\n",
    "\n",
    "        #update params\n",
    "        for p in parameters:\n",
    "            p.data -= alpha*p.grad  #SGD update        "
   ]
  },
  {
   "cell_type": "code",
   "execution_count": 50,
   "metadata": {},
   "outputs": [
    {
     "name": "stdout",
     "output_type": "stream",
     "text": [
      "loss at iter 1: 1.3485989570617676\n",
      "loss at iter 2: 1.3458372354507446\n",
      "loss at iter 3: 1.3430922031402588\n",
      "loss at iter 4: 1.340301752090454\n",
      "loss at iter 5: 1.3374783992767334\n",
      "loss at iter 6: 1.3344026803970337\n",
      "loss at iter 7: 1.3313614130020142\n",
      "loss at iter 8: 1.3283437490463257\n",
      "loss at iter 9: 1.3253614902496338\n",
      "loss at iter 10: 1.3223849534988403\n"
     ]
    }
   ],
   "source": [
    "train(10)"
   ]
  },
  {
   "cell_type": "code",
   "execution_count": 51,
   "metadata": {},
   "outputs": [],
   "source": [
    "@torch.no_grad()\n",
    "def out_logits(X):\n",
    "        l1 = X@W1 + b1\n",
    "        a1 = F.relu(l1)\n",
    "\n",
    "        l2 = a1@W2 + b2  \n",
    "        a2 = F.relu(l2)\n",
    "\n",
    "        l3 = a2@W3 + b3 \n",
    "        a3 = F.relu(l3)\n",
    "\n",
    "        logits = a3@W4 + b4  \n",
    "        return logits"
   ]
  },
  {
   "cell_type": "code",
   "execution_count": 52,
   "metadata": {},
   "outputs": [
    {
     "name": "stdout",
     "output_type": "stream",
     "text": [
      "tensor([1, 1, 1, 1, 1, 1, 0, 1, 1, 1, 1, 1, 1, 1, 1, 1, 1, 1, 1, 1, 1, 1, 1, 1,\n",
      "        1, 1, 1, 1, 1, 1, 0, 1, 1, 0, 1, 1, 0, 1, 1, 1, 1, 1, 1, 1, 1, 1, 1, 0,\n",
      "        1, 1, 1, 1, 1, 0, 1, 1, 1, 1, 1, 1, 1, 1, 0, 1, 1, 0, 1, 0, 1, 1, 1, 1,\n",
      "        1, 1, 1, 1, 1, 1, 1, 1])\n"
     ]
    }
   ],
   "source": [
    "logits_1 = out_logits(X)\n",
    "probs = F.softmax(logits_1, dim=1)  #final probabilities of the classes\n",
    "\n",
    "max_probs, max_indices = torch.max(probs, dim=1)  #get the max prob class\n",
    "print(max_indices)"
   ]
  },
  {
   "cell_type": "code",
   "execution_count": 43,
   "metadata": {},
   "outputs": [
    {
     "name": "stdout",
     "output_type": "stream",
     "text": [
      "tensor([1, 2, 0, 0, 2, 1, 2, 1, 1, 0, 2, 1, 0, 2, 2, 0, 0, 1, 2, 2, 2, 2, 1, 0,\n",
      "        0, 2, 1, 0, 1, 2, 0, 0, 0, 1, 2, 0, 1, 2, 0, 2, 1, 1, 2, 0, 2, 1, 1, 1,\n",
      "        0, 2, 0, 1, 1, 2, 2, 0, 0, 0, 2, 1, 1, 0, 1, 2, 1, 2, 0, 2, 0, 1, 1, 2,\n",
      "        2, 0, 2, 1, 0, 1, 2, 2])\n"
     ]
    }
   ],
   "source": [
    "print(y)"
   ]
  },
  {
   "cell_type": "code",
   "execution_count": null,
   "metadata": {},
   "outputs": [],
   "source": [
    "\n"
   ]
  },
  {
   "cell_type": "code",
   "execution_count": null,
   "metadata": {},
   "outputs": [],
   "source": []
  }
 ],
 "metadata": {
  "kernelspec": {
   "display_name": "env1",
   "language": "python",
   "name": "python3"
  },
  "language_info": {
   "codemirror_mode": {
    "name": "ipython",
    "version": 3
   },
   "file_extension": ".py",
   "mimetype": "text/x-python",
   "name": "python",
   "nbconvert_exporter": "python",
   "pygments_lexer": "ipython3",
   "version": "3.11.5"
  }
 },
 "nbformat": 4,
 "nbformat_minor": 2
}
